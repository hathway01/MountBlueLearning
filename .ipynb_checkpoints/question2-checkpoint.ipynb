{
 "cells": [
  {
   "cell_type": "code",
   "execution_count": 146,
   "metadata": {},
   "outputs": [
    {
     "name": "stdout",
     "output_type": "stream",
     "text": [
      "Sunrisers Hyderabad : [0, 0, 0, 0, 0, 10, 6, 7, 11, 8]\n",
      "Rising Pune Supergiant : [0, 0, 0, 0, 0, 0, 0, 0, 0, 10]\n",
      "Kolkata Knight Riders : [6, 3, 7, 8, 12, 6, 11, 7, 8, 9]\n",
      "Kings XI Punjab : [10, 7, 4, 7, 8, 8, 12, 3, 4, 7]\n",
      "Royal Challengers Bangalore : [4, 9, 8, 10, 8, 9, 5, 8, 9, 3]\n",
      "Mumbai Indians : [7, 5, 11, 10, 10, 13, 7, 10, 7, 12]\n",
      "Delhi Daredevils : [7, 10, 7, 4, 11, 3, 2, 5, 7, 6]\n",
      "Gujarat Lions : [0, 0, 0, 0, 0, 0, 0, 0, 9, 4]\n",
      "Chennai Super Kings : [9, 8, 9, 11, 10, 12, 10, 10, 0, 0]\n",
      "Rajasthan Royals : [13, 6, 6, 6, 7, 11, 7, 7, 0, 0]\n",
      "Deccan Chargers : [2, 9, 8, 6, 4, 0, 0, 0, 0, 0]\n",
      "Pune Warriors : [0, 0, 0, 4, 4, 4, 0, 0, 0, 0]\n",
      "Kochi Tuskers Kerala : [0, 0, 0, 6, 0, 0, 0, 0, 0, 0]\n",
      "Rising Pune Supergiants : [0, 0, 0, 0, 0, 0, 0, 0, 5, 0]\n",
      "Sunrisers HyderabadRising Pune SupergiantKolkata Knight RidersKings XI PunjabRoyal Challengers BangaloreMumbai IndiansDelhi DaredevilsGujarat LionsChennai Super KingsRajasthan RoyalsDeccan ChargersPune WarriorsKochi Tuskers KeralaRising Pune Supergiants\n"
     ]
    },
    {
     "data": {
      "image/png": "[encoded data removed]",
      "text/plain": [
       "<Figure size 432x288 with 1 Axes>"
      ]
     },
     "metadata": {},
     "output_type": "display_data"
    }
   ],
   "source": [
    "import matplotlib.pyplot as plt\n",
    "\n",
    "import csv\n",
    "plt.style.use('ggplot')\n",
    "\n",
    "with open('ipl/matches.csv') as csvfile:\n",
    "    reader = csv.reader(csvfile,delimiter=\",\")\n",
    "    matrix={}\n",
    "    next(reader)\n",
    "    for row in reader:\n",
    "        if row[10] not in teams and len(row[10])>0:\n",
    "            teams.append(row[10])\n",
    "        if row[1] not in years:\n",
    "            years.append(row[1])\n",
    "        if row[1] not in matrix:\n",
    "            matrix[row[1]]={}\n",
    "        if len(row[10])>0:\n",
    "            if row[10] not in matrix[row[1]]:\n",
    "                matrix[row[1]][row[10]]=1\n",
    "            else:\n",
    "                matrix[row[1]][row[10]]+=1\n",
    "    \n",
    "    years.sort()\n",
    "    result={}\n",
    "    for team in teams:\n",
    "        record=[]\n",
    "        for year in years:\n",
    "            if team not in matrix[year]:\n",
    "                matrix[year][team]=0\n",
    "            record.append(matrix[year][team])\n",
    "        result[team]=record\n",
    "        \n",
    "    visited=\"\"   \n",
    "    for index in range(len(teams)):\n",
    "        print(teams[index],\":\",result[teams[index]])\n",
    "        if index==0:\n",
    "            plt.bar(years,result[teams[index]],0.8,label=teams[index])\n",
    "            visited+=teams[index]\n",
    "        else:\n",
    "            plt.bar(years,result[teams[index]],0.8,label=teams[index])\n",
    "            visited+=\"+\"+teams[index]\n",
    "    print(visited)\n",
    "\n",
    "\n"
   ]
  },
  {
   "cell_type": "code",
   "execution_count": null,
   "metadata": {},
   "outputs": [],
   "source": []
  },
  {
   "cell_type": "code",
   "execution_count": null,
   "metadata": {},
   "outputs": [],
   "source": []
  },
  {
   "cell_type": "code",
   "execution_count": null,
   "metadata": {},
   "outputs": [],
   "source": []
  }
 ],
 "metadata": {
  "kernelspec": {
   "display_name": "Python 3",
   "language": "python",
   "name": "python3"
  },
  "language_info": {
   "codemirror_mode": {
    "name": "ipython",
    "version": 3
   },
   "file_extension": ".py",
   "mimetype": "text/x-python",
   "name": "python",
   "nbconvert_exporter": "python",
   "pygments_lexer": "ipython3",
   "version": "3.6.5"
  }
 },
 "nbformat": 4,
 "nbformat_minor": 2
}
