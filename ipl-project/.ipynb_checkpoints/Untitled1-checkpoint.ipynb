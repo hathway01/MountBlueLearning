{
 "cells": [
  {
   "cell_type": "code",
   "execution_count": 50,
   "metadata": {},
   "outputs": [
    {
     "data": {
      "image/png": "[encoded data removed]",
      "text/plain": [
       "<Figure size 432x288 with 1 Axes>"
      ]
     },
     "metadata": {
      "needs_background": "light"
     },
     "output_type": "display_data"
    }
   ],
   "source": [
    "import matplotlib.pyplot as plt\n",
    "import collections\n",
    "import csv\n",
    "\n",
    "matches_file = csv.DictReader(open(\"ipl/matches.csv\"))\n",
    "match_ids=[]\n",
    "for match in matches_file:    \n",
    "    if(int(match[\"season\"])==2015):\n",
    "        match_ids.append(match[\"id\"])\n",
    "\n",
    "bowler_record={}\n",
    "\n",
    "deliveries_file = csv.DictReader(open(\"ipl/deliveries.csv\"))\n",
    "total_run_coloumn=0\n",
    "total_ball_coloumn=1\n",
    "for delivery in deliveries_file:\n",
    "    if delivery[\"match_id\"] in match_ids:\n",
    "        if delivery[\"bowler\"] not in bowler_record:\n",
    "            bowler_record[delivery[\"bowler\"]]=[]\n",
    "            bowler_record[delivery[\"bowler\"]].append(int(delivery[\"total_runs\"]))\n",
    "            bowler_record[delivery[\"bowler\"]].append(1)\n",
    "        else:\n",
    "            bowler_record[delivery[\"bowler\"]][total_run_coloumn]+=int(delivery[\"total_runs\"])\n",
    "            bowler_record[delivery[\"bowler\"]][total_ball_coloumn]+=1\n",
    "          \n",
    "            \n",
    "for bowler in bowler_record:\n",
    "    bowler_record[bowler]=round((bowler_record[bowler][total_run_coloumn]/bowler_record[bowler][total_ball_coloumn])*6,2)\n",
    "\n",
    "bowler_record = sorted(bowler_record.items(), key=lambda x: x[1])\n",
    "\n",
    "merit_Size=10\n",
    "for (ith_bowler,bowler) in zip(range(1,merit_Size+1),bowler_record):\n",
    "    plt.bar(bowler[0],bowler[1])\n",
    "\n",
    "plt.xticks(rotation=90)\n",
    "plt.xlabel(\"Bowlers\")\n",
    "plt.ylabel(\"Run-rate\")\n",
    "plt.title(\"Top economical bowlers\")\n",
    "plt.show() \n",
    "        \n",
    "                \n",
    "            \n",
    "        \n",
    "\n",
    "    "
   ]
  },
  {
   "cell_type": "code",
   "execution_count": null,
   "metadata": {},
   "outputs": [],
   "source": []
  },
  {
   "cell_type": "code",
   "execution_count": null,
   "metadata": {},
   "outputs": [],
   "source": []
  },
  {
   "cell_type": "code",
   "execution_count": null,
   "metadata": {},
   "outputs": [],
   "source": []
  },
  {
   "cell_type": "code",
   "execution_count": null,
   "metadata": {},
   "outputs": [],
   "source": []
  }
 ],
 "metadata": {
  "kernelspec": {
   "display_name": "Python 3",
   "language": "python",
   "name": "python3"
  },
  "language_info": {
   "codemirror_mode": {
    "name": "ipython",
    "version": 3
   },
   "file_extension": ".py",
   "mimetype": "text/x-python",
   "name": "python",
   "nbconvert_exporter": "python",
   "pygments_lexer": "ipython3",
   "version": "3.6.5"
  }
 },
 "nbformat": 4,
 "nbformat_minor": 2
}
